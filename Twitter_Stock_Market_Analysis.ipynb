{
  "cells": [
    {
      "cell_type": "markdown",
      "metadata": {
        "id": "view-in-github",
        "colab_type": "text"
      },
      "source": [
        "<a href=\"https://colab.research.google.com/github/kahramankaya/VeriBilimiKucukProje/blob/main/Twitter_Stock_Market_Analysis.ipynb\" target=\"_parent\"><img src=\"https://colab.research.google.com/assets/colab-badge.svg\" alt=\"Open In Colab\"/></a>"
      ]
    },
    {
      "cell_type": "code",
      "source": [
        "#let's start by importing the necessary python libraries\n",
        "!pip install missingno as msno\n",
        "import missingno as msno\n",
        "import pandas as pd\n",
        "import seaborn as sns\n",
        "import matplotlib.pyplot as plt\n",
        "\n",
        "import datetime\n",
        "from datetime import date, timedelta\n",
        "!pip install pingouin\n",
        "import pingouin as pg"
      ],
      "metadata": {
        "id": "hyCQLZ9dpeA1",
        "outputId": "dbd20b01-d143-4f4f-d9ad-4fae74505db5",
        "colab": {
          "base_uri": "https://localhost:8080/"
        }
      },
      "execution_count": 1,
      "outputs": [
        {
          "output_type": "stream",
          "name": "stdout",
          "text": [
            "Looking in indexes: https://pypi.org/simple, https://us-python.pkg.dev/colab-wheels/public/simple/\n",
            "Requirement already satisfied: missingno in /usr/local/lib/python3.9/dist-packages (0.5.2)\n",
            "\u001b[31mERROR: Could not find a version that satisfies the requirement as (from versions: none)\u001b[0m\u001b[31m\n",
            "\u001b[0m\u001b[31mERROR: No matching distribution found for as\u001b[0m\u001b[31m\n",
            "\u001b[0mLooking in indexes: https://pypi.org/simple, https://us-python.pkg.dev/colab-wheels/public/simple/\n",
            "Collecting pingouin\n",
            "  Downloading pingouin-0.5.3-py3-none-any.whl (198 kB)\n",
            "\u001b[2K     \u001b[90m━━━━━━━━━━━━━━━━━━━━━━━━━━━━━━━━━━━━━━━\u001b[0m \u001b[32m198.6/198.6 KB\u001b[0m \u001b[31m2.3 MB/s\u001b[0m eta \u001b[36m0:00:00\u001b[0m\n",
            "\u001b[?25hRequirement already satisfied: matplotlib>=3.0.2 in /usr/local/lib/python3.9/dist-packages (from pingouin) (3.7.1)\n",
            "Collecting outdated\n",
            "  Downloading outdated-0.2.2-py2.py3-none-any.whl (7.5 kB)\n",
            "Requirement already satisfied: pandas>=1.0 in /usr/local/lib/python3.9/dist-packages (from pingouin) (1.4.4)\n",
            "Requirement already satisfied: scipy>=1.7 in /usr/local/lib/python3.9/dist-packages (from pingouin) (1.10.1)\n",
            "Requirement already satisfied: numpy>=1.19 in /usr/local/lib/python3.9/dist-packages (from pingouin) (1.22.4)\n",
            "Requirement already satisfied: scikit-learn in /usr/local/lib/python3.9/dist-packages (from pingouin) (1.2.2)\n",
            "Collecting pandas-flavor>=0.2.0\n",
            "  Downloading pandas_flavor-0.5.0-py3-none-any.whl (7.1 kB)\n",
            "Requirement already satisfied: statsmodels>=0.13 in /usr/local/lib/python3.9/dist-packages (from pingouin) (0.13.5)\n",
            "Requirement already satisfied: tabulate in /usr/local/lib/python3.9/dist-packages (from pingouin) (0.8.10)\n",
            "Requirement already satisfied: seaborn>=0.11 in /usr/local/lib/python3.9/dist-packages (from pingouin) (0.12.2)\n",
            "Requirement already satisfied: pyparsing>=2.3.1 in /usr/local/lib/python3.9/dist-packages (from matplotlib>=3.0.2->pingouin) (3.0.9)\n",
            "Requirement already satisfied: fonttools>=4.22.0 in /usr/local/lib/python3.9/dist-packages (from matplotlib>=3.0.2->pingouin) (4.39.2)\n",
            "Requirement already satisfied: packaging>=20.0 in /usr/local/lib/python3.9/dist-packages (from matplotlib>=3.0.2->pingouin) (23.0)\n",
            "Requirement already satisfied: importlib-resources>=3.2.0 in /usr/local/lib/python3.9/dist-packages (from matplotlib>=3.0.2->pingouin) (5.12.0)\n",
            "Requirement already satisfied: kiwisolver>=1.0.1 in /usr/local/lib/python3.9/dist-packages (from matplotlib>=3.0.2->pingouin) (1.4.4)\n",
            "Requirement already satisfied: python-dateutil>=2.7 in /usr/local/lib/python3.9/dist-packages (from matplotlib>=3.0.2->pingouin) (2.8.2)\n",
            "Requirement already satisfied: cycler>=0.10 in /usr/local/lib/python3.9/dist-packages (from matplotlib>=3.0.2->pingouin) (0.11.0)\n",
            "Requirement already satisfied: contourpy>=1.0.1 in /usr/local/lib/python3.9/dist-packages (from matplotlib>=3.0.2->pingouin) (1.0.7)\n",
            "Requirement already satisfied: pillow>=6.2.0 in /usr/local/lib/python3.9/dist-packages (from matplotlib>=3.0.2->pingouin) (8.4.0)\n",
            "Requirement already satisfied: pytz>=2020.1 in /usr/local/lib/python3.9/dist-packages (from pandas>=1.0->pingouin) (2022.7.1)\n",
            "Requirement already satisfied: xarray in /usr/local/lib/python3.9/dist-packages (from pandas-flavor>=0.2.0->pingouin) (2022.12.0)\n",
            "Requirement already satisfied: lazy-loader>=0.1 in /usr/local/lib/python3.9/dist-packages (from pandas-flavor>=0.2.0->pingouin) (0.1)\n",
            "Requirement already satisfied: patsy>=0.5.2 in /usr/local/lib/python3.9/dist-packages (from statsmodels>=0.13->pingouin) (0.5.3)\n",
            "Requirement already satisfied: requests in /usr/local/lib/python3.9/dist-packages (from outdated->pingouin) (2.27.1)\n",
            "Requirement already satisfied: setuptools>=44 in /usr/local/lib/python3.9/dist-packages (from outdated->pingouin) (67.6.0)\n",
            "Collecting littleutils\n",
            "  Downloading littleutils-0.2.2.tar.gz (6.6 kB)\n",
            "  Preparing metadata (setup.py) ... \u001b[?25l\u001b[?25hdone\n",
            "Requirement already satisfied: joblib>=1.1.1 in /usr/local/lib/python3.9/dist-packages (from scikit-learn->pingouin) (1.1.1)\n",
            "Requirement already satisfied: threadpoolctl>=2.0.0 in /usr/local/lib/python3.9/dist-packages (from scikit-learn->pingouin) (3.1.0)\n",
            "Requirement already satisfied: zipp>=3.1.0 in /usr/local/lib/python3.9/dist-packages (from importlib-resources>=3.2.0->matplotlib>=3.0.2->pingouin) (3.15.0)\n",
            "Requirement already satisfied: six in /usr/local/lib/python3.9/dist-packages (from patsy>=0.5.2->statsmodels>=0.13->pingouin) (1.16.0)\n",
            "Requirement already satisfied: charset-normalizer~=2.0.0 in /usr/local/lib/python3.9/dist-packages (from requests->outdated->pingouin) (2.0.12)\n",
            "Requirement already satisfied: idna<4,>=2.5 in /usr/local/lib/python3.9/dist-packages (from requests->outdated->pingouin) (3.4)\n",
            "Requirement already satisfied: urllib3<1.27,>=1.21.1 in /usr/local/lib/python3.9/dist-packages (from requests->outdated->pingouin) (1.26.15)\n",
            "Requirement already satisfied: certifi>=2017.4.17 in /usr/local/lib/python3.9/dist-packages (from requests->outdated->pingouin) (2022.12.7)\n",
            "Building wheels for collected packages: littleutils\n",
            "  Building wheel for littleutils (setup.py) ... \u001b[?25l\u001b[?25hdone\n",
            "  Created wheel for littleutils: filename=littleutils-0.2.2-py3-none-any.whl size=7048 sha256=bfb9bbc38957077ed005f0d1bf266615c67aee2f559e2ab27618610d5dab4d75\n",
            "  Stored in directory: /root/.cache/pip/wheels/04/bb/0d/2d02ec45f29c48d6192476bfb59c5a0e64b605e7212374dd15\n",
            "Successfully built littleutils\n",
            "Installing collected packages: littleutils, outdated, pandas-flavor, pingouin\n",
            "Successfully installed littleutils-0.2.2 outdated-0.2.2 pandas-flavor-0.5.0 pingouin-0.5.3\n"
          ]
        }
      ]
    },
    {
      "cell_type": "code",
      "source": [
        "#now let's start to read the dataset\n",
        "data=pd.read_csv(\"/content/TWTR.csv\")"
      ],
      "metadata": {
        "id": "v-Gk-IXckoX4"
      },
      "execution_count": 2,
      "outputs": []
    },
    {
      "cell_type": "code",
      "source": [
        "data1=data.copy()\n",
        "print(data1.head(20))\n",
        "print(data1.tail(20))"
      ],
      "metadata": {
        "id": "84vxHtJEkq9S",
        "outputId": "451943ec-9444-436d-ea62-ba2af5462530",
        "colab": {
          "base_uri": "https://localhost:8080/"
        }
      },
      "execution_count": 3,
      "outputs": [
        {
          "output_type": "stream",
          "name": "stdout",
          "text": [
            "          Date       Open       High        Low      Close  Adj Close  \\\n",
            "0   2013-11-07  45.099998  50.090000  44.000000  44.900002  44.900002   \n",
            "1   2013-11-08  45.930000  46.939999  40.685001  41.650002  41.650002   \n",
            "2   2013-11-11  40.500000  43.000000  39.400002  42.900002  42.900002   \n",
            "3   2013-11-12  43.660000  43.779999  41.830002  41.900002  41.900002   \n",
            "4   2013-11-13  41.029999  42.869999  40.759998  42.599998  42.599998   \n",
            "5   2013-11-14  42.340000  45.669998  42.240002  44.689999  44.689999   \n",
            "6   2013-11-15  45.250000  45.270000  43.430000  43.980000  43.980000   \n",
            "7   2013-11-18  43.500000  43.950001  40.849998  41.139999  41.139999   \n",
            "8   2013-11-19  41.389999  41.900002  40.000000  41.750000  41.750000   \n",
            "9   2013-11-20  41.400002  41.750000  40.509998  41.049999  41.049999   \n",
            "10  2013-11-21  41.250000  42.490002  40.369999  42.060001  42.060001   \n",
            "11  2013-11-22  41.810001  42.279999  40.970001  41.000000  41.000000   \n",
            "12  2013-11-25  41.080002  41.139999  38.799999  39.060001  39.060001   \n",
            "13  2013-11-26  39.160000  40.549999  38.919998  40.180000  40.180000   \n",
            "14  2013-11-27  40.470001  41.400002  40.349998  40.900002  40.900002   \n",
            "15  2013-11-29  41.400002  41.580002  40.900002  41.570000  41.570000   \n",
            "16  2013-12-02  41.790001  42.000000  40.400002  40.779999  40.779999   \n",
            "17  2013-12-03  40.689999  41.599998  40.540001  41.369999  41.369999   \n",
            "18  2013-12-04  41.270000  43.919998  41.270000  43.689999  43.689999   \n",
            "19  2013-12-05  43.450001  46.349998  42.830002  45.619999  45.619999   \n",
            "\n",
            "         Volume  \n",
            "0   117701670.0  \n",
            "1    27925307.0  \n",
            "2    16113941.0  \n",
            "3     6316755.0  \n",
            "4     8688325.0  \n",
            "5    11099433.0  \n",
            "6     8010663.0  \n",
            "7    12810624.0  \n",
            "8     7436616.0  \n",
            "9     5767325.0  \n",
            "10    8324753.0  \n",
            "11    6185245.0  \n",
            "12   14333375.0  \n",
            "13    9828433.0  \n",
            "14    5536322.0  \n",
            "15    4107074.0  \n",
            "16    6427386.0  \n",
            "17    5776893.0  \n",
            "18   11028953.0  \n",
            "19   11813520.0  \n",
            "            Date       Open       High        Low      Close  Adj Close  \\\n",
            "2244  2022-10-07  49.020000  49.520000  48.139999  49.180000  49.180000   \n",
            "2245  2022-10-10  49.660000  50.860001  49.500000  50.360001  50.360001   \n",
            "2246  2022-10-11  50.029999  50.550201  49.809299  50.070000  50.070000   \n",
            "2247  2022-10-12  50.009998  50.500000  49.810001  49.939999  49.939999   \n",
            "2248  2022-10-13  49.799999  51.070000  49.520000  50.340000  50.340000   \n",
            "2249  2022-10-14  50.490002  50.865002  50.299999  50.450001  50.450001   \n",
            "2250  2022-10-17  50.500000  50.900002  50.200001  50.740002  50.740002   \n",
            "2251  2022-10-18  51.099998  52.099998  50.849998  51.779999  51.779999   \n",
            "2252  2022-10-19  51.799999  52.160000  51.259998  51.830002  51.830002   \n",
            "2253  2022-10-20  52.200001  52.700001  51.599998  52.439999  52.439999   \n",
            "2254  2022-10-21  50.000000  50.750000  49.549999  49.889999  49.889999   \n",
            "2255  2022-10-24  50.709999  51.860001  50.520000  51.520000  51.520000   \n",
            "2256  2022-10-25  52.415001  53.180000  52.200001  52.779999  52.779999   \n",
            "2257  2022-10-26  52.950001  53.500000  52.770000  53.349998  53.349998   \n",
            "2258  2022-10-27  53.910000  54.000000  53.700001  53.700001  53.700001   \n",
            "2259  2022-10-28        NaN        NaN        NaN        NaN        NaN   \n",
            "2260  2022-10-31        NaN        NaN        NaN        NaN        NaN   \n",
            "2261  2022-11-01        NaN        NaN        NaN        NaN        NaN   \n",
            "2262  2022-11-02        NaN        NaN        NaN        NaN        NaN   \n",
            "2263  2022-11-03        NaN        NaN        NaN        NaN        NaN   \n",
            "\n",
            "           Volume  \n",
            "2244   32630102.0  \n",
            "2245   22272449.0  \n",
            "2246   11626795.0  \n",
            "2247   11827822.0  \n",
            "2248   18641291.0  \n",
            "2249   10075908.0  \n",
            "2250   14101270.0  \n",
            "2251   18533907.0  \n",
            "2252   10057928.0  \n",
            "2253   25461019.0  \n",
            "2254   51209029.0  \n",
            "2255   22987553.0  \n",
            "2256   35077848.0  \n",
            "2257   28064973.0  \n",
            "2258  136345128.0  \n",
            "2259          NaN  \n",
            "2260          NaN  \n",
            "2261          NaN  \n",
            "2262          NaN  \n",
            "2263          NaN  \n"
          ]
        }
      ]
    },
    {
      "cell_type": "code",
      "source": [
        "data1.info()"
      ],
      "metadata": {
        "id": "-uXDXU3BkoTv",
        "outputId": "617c4f77-1925-473d-c5c5-353d6cfd0ddf",
        "colab": {
          "base_uri": "https://localhost:8080/"
        }
      },
      "execution_count": 4,
      "outputs": [
        {
          "output_type": "stream",
          "name": "stdout",
          "text": [
            "<class 'pandas.core.frame.DataFrame'>\n",
            "RangeIndex: 2264 entries, 0 to 2263\n",
            "Data columns (total 7 columns):\n",
            " #   Column     Non-Null Count  Dtype  \n",
            "---  ------     --------------  -----  \n",
            " 0   Date       2264 non-null   object \n",
            " 1   Open       2259 non-null   float64\n",
            " 2   High       2259 non-null   float64\n",
            " 3   Low        2259 non-null   float64\n",
            " 4   Close      2259 non-null   float64\n",
            " 5   Adj Close  2259 non-null   float64\n",
            " 6   Volume     2259 non-null   float64\n",
            "dtypes: float64(6), object(1)\n",
            "memory usage: 123.9+ KB\n"
          ]
        }
      ]
    },
    {
      "cell_type": "code",
      "source": [
        "print(data1.describe().T)"
      ],
      "metadata": {
        "id": "QH7btyVanJm7",
        "outputId": "796686ab-1c45-42a4-ab1b-8c3935a4dd13",
        "colab": {
          "base_uri": "https://localhost:8080/"
        }
      },
      "execution_count": 5,
      "outputs": [
        {
          "output_type": "stream",
          "name": "stdout",
          "text": [
            "            count          mean           std     min           25%  \\\n",
            "Open       2259.0  3.602029e+01  1.411846e+01  13.950  2.555000e+01   \n",
            "High       2259.0  3.669988e+01  1.437206e+01  14.220  2.621500e+01   \n",
            "Low        2259.0  3.533946e+01  1.382872e+01  13.725  2.491250e+01   \n",
            "Close      2259.0  3.600363e+01  1.408999e+01  14.010  2.541000e+01   \n",
            "Adj Close  2259.0  3.600363e+01  1.408999e+01  14.010  2.541000e+01   \n",
            "Volume     2259.0  2.175186e+07  1.909988e+07   0.000  1.233530e+07   \n",
            "\n",
            "                    50%           75%           max  \n",
            "Open       3.542000e+01  4.420500e+01  7.836000e+01  \n",
            "High       3.610000e+01  4.501500e+01  8.075000e+01  \n",
            "Low        3.482000e+01  4.332750e+01  7.605000e+01  \n",
            "Close      3.549000e+01  4.413500e+01  7.763000e+01  \n",
            "Adj Close  3.549000e+01  4.413500e+01  7.763000e+01  \n",
            "Volume     1.691305e+07  2.428082e+07  2.692131e+08  \n"
          ]
        }
      ]
    },
    {
      "cell_type": "code",
      "source": [
        "print(data1.shape)"
      ],
      "metadata": {
        "id": "6br_BQ7Mwc1f",
        "outputId": "557af294-95c6-4ba6-9ec8-beaae7ce2d95",
        "colab": {
          "base_uri": "https://localhost:8080/"
        }
      },
      "execution_count": 6,
      "outputs": [
        {
          "output_type": "stream",
          "name": "stdout",
          "text": [
            "(2264, 7)\n"
          ]
        }
      ]
    },
    {
      "cell_type": "code",
      "source": [
        "# our dataset contains some null values.\n",
        "print(msno.bar(data1))"
      ],
      "metadata": {
        "id": "UD5UJ9z6oeor",
        "outputId": "37e249a6-0ff1-4ead-ab37-7994fc0b653a",
        "colab": {
          "base_uri": "https://localhost:8080/",
          "height": 674
        }
      },
      "execution_count": 7,
      "outputs": [
        {
          "output_type": "stream",
          "name": "stdout",
          "text": [
            "Axes(0.125,0.125;0.775x0.755)\n"
          ]
        },
        {
          "output_type": "display_data",
          "data": {
            "text/plain": [
              "<Figure size 1800x720 with 3 Axes>"
            ],
            "image/png": "[encoded data removed]"
          },
          "metadata": {
            "needs_background": "light"
          }
        }
      ]
    },
    {
      "cell_type": "code",
      "source": [
        "#we remove these null values by the \"dropna\" parameter and I will show you result with heatmap.\n",
        "data1.dropna(inplace=True)\n",
        "print(data1.isnull().sum())\n",
        "sns.heatmap(data.isnull())\n",
        "plt.show()"
      ],
      "metadata": {
        "id": "19kcFZGron_7",
        "outputId": "0403be90-47f0-45fe-ad38-fc54756b41d8",
        "colab": {
          "base_uri": "https://localhost:8080/",
          "height": 446
        }
      },
      "execution_count": 8,
      "outputs": [
        {
          "output_type": "stream",
          "name": "stdout",
          "text": [
            "Date         0\n",
            "Open         0\n",
            "High         0\n",
            "Low          0\n",
            "Close        0\n",
            "Adj Close    0\n",
            "Volume       0\n",
            "dtype: int64\n"
          ]
        },
        {
          "output_type": "display_data",
          "data": {
            "text/plain": [
              "<Figure size 432x288 with 2 Axes>"
            ],
            "image/png": "[encoded data removed]"
          },
          "metadata": {
            "needs_background": "light"
          }
        }
      ]
    },
    {
      "cell_type": "code",
      "source": [
        "data[\"Date\"] = pd.to_datetime(data[\"Date\"],format = '%Y-%m-%d')\n",
        "data['Year'] = data['Date'].dt.year\n",
        "sns.lineplot(data=data1,x=\"Date\",y=\"Close\",color=\"red\")\n",
        "plt.show()"
      ],
      "metadata": {
        "id": "V7wHErQYqh2z",
        "outputId": "fd6c7237-53fb-4b1d-d707-e4437b12e1f1",
        "colab": {
          "base_uri": "https://localhost:8080/",
          "height": 281
        }
      },
      "execution_count": 9,
      "outputs": [
        {
          "output_type": "display_data",
          "data": {
            "text/plain": [
              "<Figure size 432x288 with 1 Axes>"
            ],
            "image/png": "[encoded data removed]"
          },
          "metadata": {
            "needs_background": "light"
          }
        }
      ]
    },
    {
      "cell_type": "code",
      "source": [
        "sns.scatterplot(data=data1,y=\"Volume\",x=\"Open\")\n",
        "plt.show()"
      ],
      "metadata": {
        "id": "P20q7aGetfsa",
        "outputId": "545828ba-170e-4243-cd6b-af46196e6a98",
        "colab": {
          "base_uri": "https://localhost:8080/",
          "height": 290
        }
      },
      "execution_count": 10,
      "outputs": [
        {
          "output_type": "display_data",
          "data": {
            "text/plain": [
              "<Figure size 432x288 with 1 Axes>"
            ],
            "image/png": "[encoded data removed]"
          },
          "metadata": {
            "needs_background": "light"
          }
        }
      ]
    },
    {
      "cell_type": "code",
      "source": [
        "import numpy as np\n",
        "np.corrcoef(x=data1[\"Open\"],y=data1[\"Volume\"])"
      ],
      "metadata": {
        "id": "qi5xRdfBqh-l",
        "outputId": "8ffdc247-321c-48cd-f5aa-387a8cfd0e92",
        "colab": {
          "base_uri": "https://localhost:8080/"
        }
      },
      "execution_count": 11,
      "outputs": [
        {
          "output_type": "execute_result",
          "data": {
            "text/plain": [
              "array([[ 1.        , -0.01571776],\n",
              "       [-0.01571776,  1.        ]])"
            ]
          },
          "metadata": {},
          "execution_count": 11
        }
      ]
    },
    {
      "cell_type": "code",
      "source": [
        "#1-ilk adım gozlemler sureklı\n",
        "from scipy import stats\n",
        "#2-normallık testı.\n",
        "stats.shapiro(data1[\"Volume\"])\n",
        "#h0 red yani normal dagılım yok. bu yuzden sonrakı adımlarda non-parametrık testlere gecılır."
      ],
      "metadata": {
        "id": "JXoxIxjnqiG7",
        "outputId": "b88c8a38-84bb-4ccd-a10e-6c630eb863aa",
        "colab": {
          "base_uri": "https://localhost:8080/"
        }
      },
      "execution_count": 12,
      "outputs": [
        {
          "output_type": "execute_result",
          "data": {
            "text/plain": [
              "ShapiroResult(statistic=0.5801742076873779, pvalue=0.0)"
            ]
          },
          "metadata": {},
          "execution_count": 12
        }
      ]
    },
    {
      "cell_type": "code",
      "source": [
        "#h0: open ve volum arasında ilişki anlamlı degıldır\n",
        "#h1: ilişki anlamlıdır.\n",
        "pg.corr(x=data1[\"Open\"],y=data1[\"Volume\"],method=\"spearman\")\n",
        "#p-value degerı 0.05 ten kucuk oldugu ıcın h0 red edilir. yanı ılışki anlamlıdır yanı şansa bagı olmamıs."
      ],
      "metadata": {
        "id": "Qty6DtxVooCf",
        "outputId": "1e458d94-79b8-4dd6-82cb-c6370720c5d2",
        "colab": {
          "base_uri": "https://localhost:8080/",
          "height": 81
        }
      },
      "execution_count": 13,
      "outputs": [
        {
          "output_type": "execute_result",
          "data": {
            "text/plain": [
              "             n        r           CI95%         p-val     power\n",
              "spearman  2259 -0.12098  [-0.16, -0.08]  8.017922e-09  0.999932"
            ],
            "text/html": [
              "\n",
              "  <div id=\"df-a40203a3-d759-4a93-8c4a-22bdb819d567\">\n",
              "    <div class=\"colab-df-container\">\n",
              "      <div>\n",
              "<style scoped>\n",
              "    .dataframe tbody tr th:only-of-type {\n",
              "        vertical-align: middle;\n",
              "    }\n",
              "\n",
              "    .dataframe tbody tr th {\n",
              "        vertical-align: top;\n",
              "    }\n",
              "\n",
              "    .dataframe thead th {\n",
              "        text-align: right;\n",
              "    }\n",
              "</style>\n",
              "<table border=\"1\" class=\"dataframe\">\n",
              "  <thead>\n",
              "    <tr style=\"text-align: right;\">\n",
              "      <th></th>\n",
              "      <th>n</th>\n",
              "      <th>r</th>\n",
              "      <th>CI95%</th>\n",
              "      <th>p-val</th>\n",
              "      <th>power</th>\n",
              "    </tr>\n",
              "  </thead>\n",
              "  <tbody>\n",
              "    <tr>\n",
              "      <th>spearman</th>\n",
              "      <td>2259</td>\n",
              "      <td>-0.12098</td>\n",
              "      <td>[-0.16, -0.08]</td>\n",
              "      <td>8.017922e-09</td>\n",
              "      <td>0.999932</td>\n",
              "    </tr>\n",
              "  </tbody>\n",
              "</table>\n",
              "</div>\n",
              "      <button class=\"colab-df-convert\" onclick=\"convertToInteractive('df-a40203a3-d759-4a93-8c4a-22bdb819d567')\"\n",
              "              title=\"Convert this dataframe to an interactive table.\"\n",
              "              style=\"display:none;\">\n",
              "        \n",
              "  <svg xmlns=\"http://www.w3.org/2000/svg\" height=\"24px\"viewBox=\"0 0 24 24\"\n",
              "       width=\"24px\">\n",
              "    <path d=\"M0 0h24v24H0V0z\" fill=\"none\"/>\n",
              "    <path d=\"M18.56 5.44l.94 2.06.94-2.06 2.06-.94-2.06-.94-.94-2.06-.94 2.06-2.06.94zm-11 1L8.5 8.5l.94-2.06 2.06-.94-2.06-.94L8.5 2.5l-.94 2.06-2.06.94zm10 10l.94 2.06.94-2.06 2.06-.94-2.06-.94-.94-2.06-.94 2.06-2.06.94z\"/><path d=\"M17.41 7.96l-1.37-1.37c-.4-.4-.92-.59-1.43-.59-.52 0-1.04.2-1.43.59L10.3 9.45l-7.72 7.72c-.78.78-.78 2.05 0 2.83L4 21.41c.39.39.9.59 1.41.59.51 0 1.02-.2 1.41-.59l7.78-7.78 2.81-2.81c.8-.78.8-2.07 0-2.86zM5.41 20L4 18.59l7.72-7.72 1.47 1.35L5.41 20z\"/>\n",
              "  </svg>\n",
              "      </button>\n",
              "      \n",
              "  <style>\n",
              "    .colab-df-container {\n",
              "      display:flex;\n",
              "      flex-wrap:wrap;\n",
              "      gap: 12px;\n",
              "    }\n",
              "\n",
              "    .colab-df-convert {\n",
              "      background-color: #E8F0FE;\n",
              "      border: none;\n",
              "      border-radius: 50%;\n",
              "      cursor: pointer;\n",
              "      display: none;\n",
              "      fill: #1967D2;\n",
              "      height: 32px;\n",
              "      padding: 0 0 0 0;\n",
              "      width: 32px;\n",
              "    }\n",
              "\n",
              "    .colab-df-convert:hover {\n",
              "      background-color: #E2EBFA;\n",
              "      box-shadow: 0px 1px 2px rgba(60, 64, 67, 0.3), 0px 1px 3px 1px rgba(60, 64, 67, 0.15);\n",
              "      fill: #174EA6;\n",
              "    }\n",
              "\n",
              "    [theme=dark] .colab-df-convert {\n",
              "      background-color: #3B4455;\n",
              "      fill: #D2E3FC;\n",
              "    }\n",
              "\n",
              "    [theme=dark] .colab-df-convert:hover {\n",
              "      background-color: #434B5C;\n",
              "      box-shadow: 0px 1px 3px 1px rgba(0, 0, 0, 0.15);\n",
              "      filter: drop-shadow(0px 1px 2px rgba(0, 0, 0, 0.3));\n",
              "      fill: #FFFFFF;\n",
              "    }\n",
              "  </style>\n",
              "\n",
              "      <script>\n",
              "        const buttonEl =\n",
              "          document.querySelector('#df-a40203a3-d759-4a93-8c4a-22bdb819d567 button.colab-df-convert');\n",
              "        buttonEl.style.display =\n",
              "          google.colab.kernel.accessAllowed ? 'block' : 'none';\n",
              "\n",
              "        async function convertToInteractive(key) {\n",
              "          const element = document.querySelector('#df-a40203a3-d759-4a93-8c4a-22bdb819d567');\n",
              "          const dataTable =\n",
              "            await google.colab.kernel.invokeFunction('convertToInteractive',\n",
              "                                                     [key], {});\n",
              "          if (!dataTable) return;\n",
              "\n",
              "          const docLinkHtml = 'Like what you see? Visit the ' +\n",
              "            '<a target=\"_blank\" href=https://colab.research.google.com/notebooks/data_table.ipynb>data table notebook</a>'\n",
              "            + ' to learn more about interactive tables.';\n",
              "          element.innerHTML = '';\n",
              "          dataTable['output_type'] = 'display_data';\n",
              "          await google.colab.output.renderOutput(dataTable, element);\n",
              "          const docLink = document.createElement('div');\n",
              "          docLink.innerHTML = docLinkHtml;\n",
              "          element.appendChild(docLink);\n",
              "        }\n",
              "      </script>\n",
              "    </div>\n",
              "  </div>\n",
              "  "
            ]
          },
          "metadata": {},
          "execution_count": 13
        }
      ]
    },
    {
      "cell_type": "code",
      "source": [
        "pg.pairwise_corr(data=data1,method=\"spearman\")\n",
        "#p-unc degerınden hangı degıskenler arasında degısıklık olup olmadıgı ogrenılebılır."
      ],
      "metadata": {
        "id": "CClOMOi1ooIn",
        "outputId": "5b0e0868-6a4a-4169-c8b7-7f7bb58e5de7",
        "colab": {
          "base_uri": "https://localhost:8080/",
          "height": 519
        }
      },
      "execution_count": 14,
      "outputs": [
        {
          "output_type": "execute_result",
          "data": {
            "text/plain": [
              "            X          Y    method alternative     n         r  \\\n",
              "0        Open       High  spearman   two-sided  2259  0.998645   \n",
              "1        Open        Low  spearman   two-sided  2259  0.998514   \n",
              "2        Open      Close  spearman   two-sided  2259  0.997211   \n",
              "3        Open  Adj Close  spearman   two-sided  2259  0.997211   \n",
              "4        Open     Volume  spearman   two-sided  2259 -0.120980   \n",
              "5        High        Low  spearman   two-sided  2259  0.998177   \n",
              "6        High      Close  spearman   two-sided  2259  0.998661   \n",
              "7        High  Adj Close  spearman   two-sided  2259  0.998661   \n",
              "8        High     Volume  spearman   two-sided  2259 -0.103672   \n",
              "9         Low      Close  spearman   two-sided  2259  0.998820   \n",
              "10        Low  Adj Close  spearman   two-sided  2259  0.998820   \n",
              "11        Low     Volume  spearman   two-sided  2259 -0.135464   \n",
              "12      Close  Adj Close  spearman   two-sided  2259  1.000000   \n",
              "13      Close     Volume  spearman   two-sided  2259 -0.119427   \n",
              "14  Adj Close     Volume  spearman   two-sided  2259 -0.119427   \n",
              "\n",
              "             CI95%         p-unc     power  \n",
              "0       [1.0, 1.0]  0.000000e+00  1.000000  \n",
              "1       [1.0, 1.0]  0.000000e+00  1.000000  \n",
              "2       [1.0, 1.0]  0.000000e+00  1.000000  \n",
              "3       [1.0, 1.0]  0.000000e+00  1.000000  \n",
              "4   [-0.16, -0.08]  8.017922e-09  0.999932  \n",
              "5       [1.0, 1.0]  0.000000e+00  1.000000  \n",
              "6       [1.0, 1.0]  0.000000e+00  1.000000  \n",
              "7       [1.0, 1.0]  0.000000e+00  1.000000  \n",
              "8   [-0.14, -0.06]  7.892737e-07  0.998573  \n",
              "9       [1.0, 1.0]  0.000000e+00  1.000000  \n",
              "10      [1.0, 1.0]  0.000000e+00  1.000000  \n",
              "11  [-0.18, -0.09]  1.014932e-10  0.999997  \n",
              "12      [1.0, 1.0]  0.000000e+00  1.000000  \n",
              "13  [-0.16, -0.08]  1.244573e-08  0.999908  \n",
              "14  [-0.16, -0.08]  1.244573e-08  0.999908  "
            ],
            "text/html": [
              "\n",
              "  <div id=\"df-940110a0-aef5-4a4e-9d78-f18ee9a09c7f\">\n",
              "    <div class=\"colab-df-container\">\n",
              "      <div>\n",
              "<style scoped>\n",
              "    .dataframe tbody tr th:only-of-type {\n",
              "        vertical-align: middle;\n",
              "    }\n",
              "\n",
              "    .dataframe tbody tr th {\n",
              "        vertical-align: top;\n",
              "    }\n",
              "\n",
              "    .dataframe thead th {\n",
              "        text-align: right;\n",
              "    }\n",
              "</style>\n",
              "<table border=\"1\" class=\"dataframe\">\n",
              "  <thead>\n",
              "    <tr style=\"text-align: right;\">\n",
              "      <th></th>\n",
              "      <th>X</th>\n",
              "      <th>Y</th>\n",
              "      <th>method</th>\n",
              "      <th>alternative</th>\n",
              "      <th>n</th>\n",
              "      <th>r</th>\n",
              "      <th>CI95%</th>\n",
              "      <th>p-unc</th>\n",
              "      <th>power</th>\n",
              "    </tr>\n",
              "  </thead>\n",
              "  <tbody>\n",
              "    <tr>\n",
              "      <th>0</th>\n",
              "      <td>Open</td>\n",
              "      <td>High</td>\n",
              "      <td>spearman</td>\n",
              "      <td>two-sided</td>\n",
              "      <td>2259</td>\n",
              "      <td>0.998645</td>\n",
              "      <td>[1.0, 1.0]</td>\n",
              "      <td>0.000000e+00</td>\n",
              "      <td>1.000000</td>\n",
              "    </tr>\n",
              "    <tr>\n",
              "      <th>1</th>\n",
              "      <td>Open</td>\n",
              "      <td>Low</td>\n",
              "      <td>spearman</td>\n",
              "      <td>two-sided</td>\n",
              "      <td>2259</td>\n",
              "      <td>0.998514</td>\n",
              "      <td>[1.0, 1.0]</td>\n",
              "      <td>0.000000e+00</td>\n",
              "      <td>1.000000</td>\n",
              "    </tr>\n",
              "    <tr>\n",
              "      <th>2</th>\n",
              "      <td>Open</td>\n",
              "      <td>Close</td>\n",
              "      <td>spearman</td>\n",
              "      <td>two-sided</td>\n",
              "      <td>2259</td>\n",
              "      <td>0.997211</td>\n",
              "      <td>[1.0, 1.0]</td>\n",
              "      <td>0.000000e+00</td>\n",
              "      <td>1.000000</td>\n",
              "    </tr>\n",
              "    <tr>\n",
              "      <th>3</th>\n",
              "      <td>Open</td>\n",
              "      <td>Adj Close</td>\n",
              "      <td>spearman</td>\n",
              "      <td>two-sided</td>\n",
              "      <td>2259</td>\n",
              "      <td>0.997211</td>\n",
              "      <td>[1.0, 1.0]</td>\n",
              "      <td>0.000000e+00</td>\n",
              "      <td>1.000000</td>\n",
              "    </tr>\n",
              "    <tr>\n",
              "      <th>4</th>\n",
              "      <td>Open</td>\n",
              "      <td>Volume</td>\n",
              "      <td>spearman</td>\n",
              "      <td>two-sided</td>\n",
              "      <td>2259</td>\n",
              "      <td>-0.120980</td>\n",
              "      <td>[-0.16, -0.08]</td>\n",
              "      <td>8.017922e-09</td>\n",
              "      <td>0.999932</td>\n",
              "    </tr>\n",
              "    <tr>\n",
              "      <th>5</th>\n",
              "      <td>High</td>\n",
              "      <td>Low</td>\n",
              "      <td>spearman</td>\n",
              "      <td>two-sided</td>\n",
              "      <td>2259</td>\n",
              "      <td>0.998177</td>\n",
              "      <td>[1.0, 1.0]</td>\n",
              "      <td>0.000000e+00</td>\n",
              "      <td>1.000000</td>\n",
              "    </tr>\n",
              "    <tr>\n",
              "      <th>6</th>\n",
              "      <td>High</td>\n",
              "      <td>Close</td>\n",
              "      <td>spearman</td>\n",
              "      <td>two-sided</td>\n",
              "      <td>2259</td>\n",
              "      <td>0.998661</td>\n",
              "      <td>[1.0, 1.0]</td>\n",
              "      <td>0.000000e+00</td>\n",
              "      <td>1.000000</td>\n",
              "    </tr>\n",
              "    <tr>\n",
              "      <th>7</th>\n",
              "      <td>High</td>\n",
              "      <td>Adj Close</td>\n",
              "      <td>spearman</td>\n",
              "      <td>two-sided</td>\n",
              "      <td>2259</td>\n",
              "      <td>0.998661</td>\n",
              "      <td>[1.0, 1.0]</td>\n",
              "      <td>0.000000e+00</td>\n",
              "      <td>1.000000</td>\n",
              "    </tr>\n",
              "    <tr>\n",
              "      <th>8</th>\n",
              "      <td>High</td>\n",
              "      <td>Volume</td>\n",
              "      <td>spearman</td>\n",
              "      <td>two-sided</td>\n",
              "      <td>2259</td>\n",
              "      <td>-0.103672</td>\n",
              "      <td>[-0.14, -0.06]</td>\n",
              "      <td>7.892737e-07</td>\n",
              "      <td>0.998573</td>\n",
              "    </tr>\n",
              "    <tr>\n",
              "      <th>9</th>\n",
              "      <td>Low</td>\n",
              "      <td>Close</td>\n",
              "      <td>spearman</td>\n",
              "      <td>two-sided</td>\n",
              "      <td>2259</td>\n",
              "      <td>0.998820</td>\n",
              "      <td>[1.0, 1.0]</td>\n",
              "      <td>0.000000e+00</td>\n",
              "      <td>1.000000</td>\n",
              "    </tr>\n",
              "    <tr>\n",
              "      <th>10</th>\n",
              "      <td>Low</td>\n",
              "      <td>Adj Close</td>\n",
              "      <td>spearman</td>\n",
              "      <td>two-sided</td>\n",
              "      <td>2259</td>\n",
              "      <td>0.998820</td>\n",
              "      <td>[1.0, 1.0]</td>\n",
              "      <td>0.000000e+00</td>\n",
              "      <td>1.000000</td>\n",
              "    </tr>\n",
              "    <tr>\n",
              "      <th>11</th>\n",
              "      <td>Low</td>\n",
              "      <td>Volume</td>\n",
              "      <td>spearman</td>\n",
              "      <td>two-sided</td>\n",
              "      <td>2259</td>\n",
              "      <td>-0.135464</td>\n",
              "      <td>[-0.18, -0.09]</td>\n",
              "      <td>1.014932e-10</td>\n",
              "      <td>0.999997</td>\n",
              "    </tr>\n",
              "    <tr>\n",
              "      <th>12</th>\n",
              "      <td>Close</td>\n",
              "      <td>Adj Close</td>\n",
              "      <td>spearman</td>\n",
              "      <td>two-sided</td>\n",
              "      <td>2259</td>\n",
              "      <td>1.000000</td>\n",
              "      <td>[1.0, 1.0]</td>\n",
              "      <td>0.000000e+00</td>\n",
              "      <td>1.000000</td>\n",
              "    </tr>\n",
              "    <tr>\n",
              "      <th>13</th>\n",
              "      <td>Close</td>\n",
              "      <td>Volume</td>\n",
              "      <td>spearman</td>\n",
              "      <td>two-sided</td>\n",
              "      <td>2259</td>\n",
              "      <td>-0.119427</td>\n",
              "      <td>[-0.16, -0.08]</td>\n",
              "      <td>1.244573e-08</td>\n",
              "      <td>0.999908</td>\n",
              "    </tr>\n",
              "    <tr>\n",
              "      <th>14</th>\n",
              "      <td>Adj Close</td>\n",
              "      <td>Volume</td>\n",
              "      <td>spearman</td>\n",
              "      <td>two-sided</td>\n",
              "      <td>2259</td>\n",
              "      <td>-0.119427</td>\n",
              "      <td>[-0.16, -0.08]</td>\n",
              "      <td>1.244573e-08</td>\n",
              "      <td>0.999908</td>\n",
              "    </tr>\n",
              "  </tbody>\n",
              "</table>\n",
              "</div>\n",
              "      <button class=\"colab-df-convert\" onclick=\"convertToInteractive('df-940110a0-aef5-4a4e-9d78-f18ee9a09c7f')\"\n",
              "              title=\"Convert this dataframe to an interactive table.\"\n",
              "              style=\"display:none;\">\n",
              "        \n",
              "  <svg xmlns=\"http://www.w3.org/2000/svg\" height=\"24px\"viewBox=\"0 0 24 24\"\n",
              "       width=\"24px\">\n",
              "    <path d=\"M0 0h24v24H0V0z\" fill=\"none\"/>\n",
              "    <path d=\"M18.56 5.44l.94 2.06.94-2.06 2.06-.94-2.06-.94-.94-2.06-.94 2.06-2.06.94zm-11 1L8.5 8.5l.94-2.06 2.06-.94-2.06-.94L8.5 2.5l-.94 2.06-2.06.94zm10 10l.94 2.06.94-2.06 2.06-.94-2.06-.94-.94-2.06-.94 2.06-2.06.94z\"/><path d=\"M17.41 7.96l-1.37-1.37c-.4-.4-.92-.59-1.43-.59-.52 0-1.04.2-1.43.59L10.3 9.45l-7.72 7.72c-.78.78-.78 2.05 0 2.83L4 21.41c.39.39.9.59 1.41.59.51 0 1.02-.2 1.41-.59l7.78-7.78 2.81-2.81c.8-.78.8-2.07 0-2.86zM5.41 20L4 18.59l7.72-7.72 1.47 1.35L5.41 20z\"/>\n",
              "  </svg>\n",
              "      </button>\n",
              "      \n",
              "  <style>\n",
              "    .colab-df-container {\n",
              "      display:flex;\n",
              "      flex-wrap:wrap;\n",
              "      gap: 12px;\n",
              "    }\n",
              "\n",
              "    .colab-df-convert {\n",
              "      background-color: #E8F0FE;\n",
              "      border: none;\n",
              "      border-radius: 50%;\n",
              "      cursor: pointer;\n",
              "      display: none;\n",
              "      fill: #1967D2;\n",
              "      height: 32px;\n",
              "      padding: 0 0 0 0;\n",
              "      width: 32px;\n",
              "    }\n",
              "\n",
              "    .colab-df-convert:hover {\n",
              "      background-color: #E2EBFA;\n",
              "      box-shadow: 0px 1px 2px rgba(60, 64, 67, 0.3), 0px 1px 3px 1px rgba(60, 64, 67, 0.15);\n",
              "      fill: #174EA6;\n",
              "    }\n",
              "\n",
              "    [theme=dark] .colab-df-convert {\n",
              "      background-color: #3B4455;\n",
              "      fill: #D2E3FC;\n",
              "    }\n",
              "\n",
              "    [theme=dark] .colab-df-convert:hover {\n",
              "      background-color: #434B5C;\n",
              "      box-shadow: 0px 1px 3px 1px rgba(0, 0, 0, 0.15);\n",
              "      filter: drop-shadow(0px 1px 2px rgba(0, 0, 0, 0.3));\n",
              "      fill: #FFFFFF;\n",
              "    }\n",
              "  </style>\n",
              "\n",
              "      <script>\n",
              "        const buttonEl =\n",
              "          document.querySelector('#df-940110a0-aef5-4a4e-9d78-f18ee9a09c7f button.colab-df-convert');\n",
              "        buttonEl.style.display =\n",
              "          google.colab.kernel.accessAllowed ? 'block' : 'none';\n",
              "\n",
              "        async function convertToInteractive(key) {\n",
              "          const element = document.querySelector('#df-940110a0-aef5-4a4e-9d78-f18ee9a09c7f');\n",
              "          const dataTable =\n",
              "            await google.colab.kernel.invokeFunction('convertToInteractive',\n",
              "                                                     [key], {});\n",
              "          if (!dataTable) return;\n",
              "\n",
              "          const docLinkHtml = 'Like what you see? Visit the ' +\n",
              "            '<a target=\"_blank\" href=https://colab.research.google.com/notebooks/data_table.ipynb>data table notebook</a>'\n",
              "            + ' to learn more about interactive tables.';\n",
              "          element.innerHTML = '';\n",
              "          dataTable['output_type'] = 'display_data';\n",
              "          await google.colab.output.renderOutput(dataTable, element);\n",
              "          const docLink = document.createElement('div');\n",
              "          docLink.innerHTML = docLinkHtml;\n",
              "          element.appendChild(docLink);\n",
              "        }\n",
              "      </script>\n",
              "    </div>\n",
              "  </div>\n",
              "  "
            ]
          },
          "metadata": {},
          "execution_count": 14
        }
      ]
    }
  ],
  "metadata": {
    "colab": {
      "name": "Colaboratory'ye Hoş Geldiniz",
      "provenance": [],
      "include_colab_link": true
    },
    "kernelspec": {
      "display_name": "Python 3",
      "name": "python3"
    }
  },
  "nbformat": 4,
  "nbformat_minor": 0
}