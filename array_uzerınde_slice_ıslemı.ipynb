{
  "cells": [
    {
      "cell_type": "markdown",
      "metadata": {
        "id": "view-in-github",
        "colab_type": "text"
      },
      "source": [
        "<a href=\"https://colab.research.google.com/github/kahramankaya/VeriBilimiKucukProje/blob/main/array_uzer%C4%B1nde_slice_%C4%B1slem%C4%B1.ipynb\" target=\"_parent\"><img src=\"https://colab.research.google.com/assets/colab-badge.svg\" alt=\"Open In Colab\"/></a>"
      ]
    },
    {
      "cell_type": "code",
      "source": [
        "#array de slice işlemi kullanılır. yani array ile asagıda ki datayı oluşturmuş isen o zaman slice işe yarar.\n",
        "#aksı taktırde direk kendi ellerinle asagıdakı datayı yazarsan bunun tıpı list olur array olmaz. bu yuzdende list uzerınde slice kullanamazsın. \n",
        "# bu cok ugrastıgım bır hataydı."
      ],
      "metadata": {
        "id": "uB3u0OlmTgKl"
      },
      "execution_count": null,
      "outputs": []
    },
    {
      "cell_type": "code",
      "source": [
        "import pandas as pd\n",
        "from scipy import stats\n",
        "data = [[120, 130, 110],\n",
        "        [130, 120, 140],\n",
        "        [140, 140, 130],\n",
        "        [130, 130, 140],\n",
        "        [120, 140, 120],\n",
        "        [130, 120, 130],\n",
        "        [140, 130, 140],\n",
        "        [130, 140, 130],\n",
        "        [120, 120, 110],\n",
        "        [130, 130, 140]]\n",
        "df = pd.DataFrame(data)\n",
        "\n",
        "tedavi_yontemi_1 = df.iloc[:, 0]\n",
        "tedavi_yontemi_1 = df.iloc[:, 1]\n",
        "tedavi_yontemi_1 = df.iloc[:, 2]\n",
        "print(tedavi_yontemi_1)"
      ],
      "metadata": {
        "id": "OAnQnPjQumk9",
        "outputId": "1edfcb84-53b5-43e9-a83b-cfe0f5c0d599",
        "colab": {
          "base_uri": "https://localhost:8080/"
        }
      },
      "execution_count": 20,
      "outputs": [
        {
          "output_type": "stream",
          "name": "stdout",
          "text": [
            "0    110\n",
            "1    140\n",
            "2    130\n",
            "3    140\n",
            "4    120\n",
            "5    130\n",
            "6    140\n",
            "7    130\n",
            "8    110\n",
            "9    140\n",
            "Name: 2, dtype: int64\n"
          ]
        }
      ]
    }
  ],
  "metadata": {
    "colab": {
      "name": "Colaboratory'ye Hoş Geldiniz",
      "provenance": [],
      "include_colab_link": true
    },
    "kernelspec": {
      "display_name": "Python 3",
      "name": "python3"
    }
  },
  "nbformat": 4,
  "nbformat_minor": 0
}