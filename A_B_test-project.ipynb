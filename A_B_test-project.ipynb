{
  "cells": [
    {
      "cell_type": "markdown",
      "metadata": {
        "id": "view-in-github",
        "colab_type": "text"
      },
      "source": [
        "<a href=\"https://colab.research.google.com/github/kahramankaya/VeriBilimiKucukProje/blob/main/A_B_test-project.ipynb\" target=\"_parent\"><img src=\"https://colab.research.google.com/assets/colab-badge.svg\" alt=\"Open In Colab\"/></a>"
      ]
    },
    {
      "cell_type": "code",
      "source": [
        "import pandas as pd\n",
        "data1=pd.read_csv(\"/content/test_group.csv\",sep=\";\")\n",
        "data2=pd.read_csv(\"/content/control_group.csv\",sep=\";\")\n",
        "print(data1)\n",
        "print(data2)"
      ],
      "metadata": {
        "id": "5W6wDwTmzxlX"
      },
      "execution_count": null,
      "outputs": []
    },
    {
      "cell_type": "code",
      "source": [
        "#let's have a look at both datasets:\n",
        "print(data1.head())"
      ],
      "metadata": {
        "id": "Mx63-e2Xzxbz",
        "outputId": "0f3342e6-2204-4348-f354-a9a869a25690",
        "colab": {
          "base_uri": "https://localhost:8080/"
        }
      },
      "execution_count": 26,
      "outputs": [
        {
          "output_type": "stream",
          "name": "stdout",
          "text": [
            "   Campaign Name       Date  Spend [USD]  # of Impressions  Reach  \\\n",
            "0  Test Campaign  1.08.2019         3008             39550  35820   \n",
            "1  Test Campaign  2.08.2019         2542            100719  91236   \n",
            "2  Test Campaign  3.08.2019         2365             70263  45198   \n",
            "3  Test Campaign  4.08.2019         2710             78451  25937   \n",
            "4  Test Campaign  5.08.2019         2297            114295  95138   \n",
            "\n",
            "   # of Website Clicks  # of Searches  # of View Content  # of Add to Cart  \\\n",
            "0                 3038           1946               1069               894   \n",
            "1                 4657           2359               1548               879   \n",
            "2                 7885           2572               2367              1268   \n",
            "3                 4216           2216               1437               566   \n",
            "4                 5863           2106                858               956   \n",
            "\n",
            "   # of Purchase  \n",
            "0            255  \n",
            "1            677  \n",
            "2            578  \n",
            "3            340  \n",
            "4            768  \n"
          ]
        }
      ]
    },
    {
      "cell_type": "code",
      "source": [
        "print(data2.head())"
      ],
      "metadata": {
        "id": "PEumnU0B8XEC",
        "outputId": "4eecbf28-8122-49ff-b0a5-ea23f59e53d0",
        "colab": {
          "base_uri": "https://localhost:8080/"
        }
      },
      "execution_count": 27,
      "outputs": [
        {
          "output_type": "stream",
          "name": "stdout",
          "text": [
            "      Campaign Name       Date  Spend [USD]  # of Impressions     Reach  \\\n",
            "0  Control Campaign  1.08.2019         2280           82702.0   56930.0   \n",
            "1  Control Campaign  2.08.2019         1757          121040.0  102513.0   \n",
            "2  Control Campaign  3.08.2019         2343          131711.0  110862.0   \n",
            "3  Control Campaign  4.08.2019         1940           72878.0   61235.0   \n",
            "4  Control Campaign  5.08.2019         1835               NaN       NaN   \n",
            "\n",
            "   # of Website Clicks  # of Searches  # of View Content  # of Add to Cart  \\\n",
            "0               7016.0         2290.0             2159.0            1819.0   \n",
            "1               8110.0         2033.0             1841.0            1219.0   \n",
            "2               6508.0         1737.0             1549.0            1134.0   \n",
            "3               3065.0         1042.0              982.0            1183.0   \n",
            "4                  NaN            NaN                NaN               NaN   \n",
            "\n",
            "   # of Purchase  \n",
            "0          618.0  \n",
            "1          511.0  \n",
            "2          372.0  \n",
            "3          340.0  \n",
            "4            NaN  \n"
          ]
        }
      ]
    },
    {
      "cell_type": "code",
      "source": [
        "#Data Preparation\n",
        "data1.columns = [\"Campaign Name\", \"Date\", \"Amount Spent\", \n",
        "                        \"Number of Impressions\", \"Reach\", \"Website Clicks\", \n",
        "                        \"Searches Received\", \"Content Viewed\", \"Added to Cart\",\n",
        "                        \"Purchases\"]\n",
        "data2.columns=[\"Campaign Name\", \"Date\", \"Amount Spent\", \n",
        "                        \"Number of Impressions\", \"Reach\", \"Website Clicks\", \n",
        "                        \"Searches Received\", \"Content Viewed\", \"Added to Cart\",\n",
        "                        \"Purchases\"]                        "
      ],
      "metadata": {
        "id": "bTZwxcL3zxHv"
      },
      "execution_count": 31,
      "outputs": []
    },
    {
      "cell_type": "code",
      "source": [
        "#now let's see if our datasets have null values or not:\n",
        "print(data1.isnull().sum())"
      ],
      "metadata": {
        "id": "dDJDMlUmzxGz",
        "outputId": "68031741-3e1e-45bf-e32a-c6a03e3fc1f7",
        "colab": {
          "base_uri": "https://localhost:8080/"
        }
      },
      "execution_count": 33,
      "outputs": [
        {
          "output_type": "stream",
          "name": "stdout",
          "text": [
            "Campaign Name            0\n",
            "Date                     0\n",
            "Amount Spent             0\n",
            "Number of Impressions    0\n",
            "Reach                    0\n",
            "Website Clicks           0\n",
            "Searches Received        0\n",
            "Content Viewed           0\n",
            "Added to Cart            0\n",
            "Purchases                0\n",
            "dtype: int64\n"
          ]
        }
      ]
    },
    {
      "cell_type": "code",
      "source": [
        "#this dataset has some null values. so \n",
        "print(data2.isnull().sum())"
      ],
      "metadata": {
        "id": "E-uDpRdH9dyD",
        "outputId": "831d7b2d-710f-44bf-90cc-2f6c674ac3ad",
        "colab": {
          "base_uri": "https://localhost:8080/"
        }
      },
      "execution_count": 36,
      "outputs": [
        {
          "output_type": "stream",
          "name": "stdout",
          "text": [
            "Campaign Name            0\n",
            "Date                     0\n",
            "Amount Spent             0\n",
            "Number of Impressions    0\n",
            "Reach                    0\n",
            "Website Clicks           0\n",
            "Searches Received        0\n",
            "Content Viewed           0\n",
            "Added to Cart            0\n",
            "Purchases                0\n",
            "dtype: int64\n"
          ]
        }
      ]
    },
    {
      "cell_type": "code",
      "source": [
        "#lets fill in these missing values by the mean value of each column.\n",
        "\n",
        "data2[\"Number of Impressions\"].fillna(value=data2[\"Number of Impressions\"].mean(), \n",
        "                                             inplace=True)\n",
        "data2[\"Reach\"].fillna(value=data2[\"Reach\"].mean(), \n",
        "                                             inplace=True)\n",
        "data2[\"Website Clicks\"].fillna(value=data2[\"Website Clicks\"].mean(), \n",
        "                                             inplace=True)\n",
        "data2[\"Searches Received\"].fillna(value=data2[\"Searches Received\"].mean(), \n",
        "                                             inplace=True)\n",
        "data2[\"Content Viewed\"].fillna(value=data2[\"Content Viewed\"].mean(), \n",
        "                                             inplace=True)\n",
        "data2[\"Added to Cart\"].fillna(value=data2[\"Added to Cart\"].mean(), \n",
        "                                             inplace=True)\n",
        "data2[\"Purchases\"].fillna(value=data2[\"Purchases\"].mean(), \n",
        "                                             inplace=True)"
      ],
      "metadata": {
        "id": "t-E_8iZ3_kXM"
      },
      "execution_count": 35,
      "outputs": []
    },
    {
      "cell_type": "code",
      "source": [],
      "metadata": {
        "id": "4A9xQ9Wq_k0S"
      },
      "execution_count": null,
      "outputs": []
    },
    {
      "cell_type": "code",
      "source": [],
      "metadata": {
        "id": "U70nMAgn_k5w"
      },
      "execution_count": null,
      "outputs": []
    }
  ],
  "metadata": {
    "colab": {
      "name": "Colaboratory'ye Hoş Geldiniz",
      "provenance": [],
      "include_colab_link": true
    },
    "kernelspec": {
      "display_name": "Python 3",
      "name": "python3"
    }
  },
  "nbformat": 4,
  "nbformat_minor": 0
}