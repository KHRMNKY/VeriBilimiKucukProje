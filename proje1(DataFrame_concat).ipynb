{
  "cells": [
    {
      "cell_type": "markdown",
      "metadata": {
        "id": "view-in-github",
        "colab_type": "text"
      },
      "source": [
        "<a href=\"https://colab.research.google.com/github/kahramankaya/VeriBilimiKucukProje/blob/main/proje1(DataFrame_concat).ipynb\" target=\"_parent\"><img src=\"https://colab.research.google.com/assets/colab-badge.svg\" alt=\"Open In Colab\"/></a>"
      ]
    },
    {
      "cell_type": "code",
      "source": [
        "import numpy as np\n",
        "import pandas as pd\n",
        "from scipy import stats\n",
        "\n",
        "np.random.seed(0)\n",
        "list1=[]\n",
        "list2=[]\n",
        "harcama=[]\n",
        "\n",
        "for m in range(50):\n",
        "  list1.append(\"erkek\")\n",
        "  harcama.append(np.random.randint(1000,size=1))\n",
        "\n",
        "for m in range(50):\n",
        "  list2.append(\"kadın\")\n",
        "  harcama.append(np.random.randint(1000,size=1))\n",
        "  \n",
        "erkek=pd.DataFrame(list1,columns=[\"cinsiyet\"])\n",
        "kadın=pd.DataFrame(list2,columns=[\"cinsiyet\"])\n",
        "harcamaa=pd.DataFrame(harcama,columns=[\"harcama\"])\n",
        "\n",
        "veri=pd.concat([erkek,kadın], ignore_index=True)\n",
        "x=pd.concat([veri,harcamaa],axis=1)\n",
        "\n",
        "print(x)\n"
      ],
      "metadata": {
        "id": "FB2Ww3kzvwGD",
        "outputId": "4e37b1b6-ec7f-4e05-f89b-8826bbe8aaca",
        "colab": {
          "base_uri": "https://localhost:8080/"
        }
      },
      "execution_count": 52,
      "outputs": [
        {
          "output_type": "stream",
          "name": "stdout",
          "text": [
            "   cinsiyet  harcama\n",
            "0     erkek      684\n",
            "1     erkek      559\n",
            "2     erkek      629\n",
            "3     erkek      192\n",
            "4     erkek      835\n",
            "..      ...      ...\n",
            "95    kadın      398\n",
            "96    kadın      611\n",
            "97    kadın      565\n",
            "98    kadın      908\n",
            "99    kadın      633\n",
            "\n",
            "[100 rows x 2 columns]\n"
          ]
        }
      ]
    }
  ],
  "metadata": {
    "colab": {
      "name": "Colaboratory'ye Hoş Geldiniz",
      "provenance": [],
      "include_colab_link": true
    },
    "kernelspec": {
      "display_name": "Python 3",
      "name": "python3"
    }
  },
  "nbformat": 4,
  "nbformat_minor": 0
}