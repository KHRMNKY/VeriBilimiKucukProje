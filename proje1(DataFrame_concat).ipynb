{
  "cells": [
    {
      "cell_type": "markdown",
      "metadata": {
        "id": "view-in-github",
        "colab_type": "text"
      },
      "source": [
        "<a href=\"https://colab.research.google.com/github/kahramankaya/VeriBilimiKucukProje/blob/main/proje1(DataFrame_concat).ipynb\" target=\"_parent\"><img src=\"https://colab.research.google.com/assets/colab-badge.svg\" alt=\"Open In Colab\"/></a>"
      ]
    },
    {
      "cell_type": "code",
      "source": [
        "import numpy as np\n",
        "import pandas as pd\n",
        "from scipy import stats\n",
        "\n",
        "np.random.seed(0)\n",
        "list1=[]\n",
        "list2=[]\n",
        "harcama=[]\n",
        "\n",
        "for m in range(50):\n",
        "  list1.append(\"erkek\")\n",
        "  harcama.append(np.random.randint(1000,size=1))\n",
        "\n",
        "for m in range(50):\n",
        "  list2.append(\"kadın\")\n",
        "  harcama.append(np.random.randint(1000,size=1))\n",
        "  \n",
        "erkek=pd.DataFrame(list1,columns=[\"cinsiyet\"])\n",
        "kadın=pd.DataFrame(list2,columns=[\"cinsiyet\"])\n",
        "harcamaa=pd.DataFrame(harcama,columns=[\"harcama\"])\n",
        "\n",
        "veri=pd.concat([erkek,kadın], ignore_index=True)\n",
        "x=pd.concat([veri,harcamaa],axis=1)\n",
        "\n",
        "print(x)\n",
        "print(x[[\"cinsiyet\",\"harcama\"]]) # tüm sütunlar bu şekilde yazılabilir.\n",
        "print(x[x[\"cinsiyet\"] == \"erkek\"][\"harcama\"]) # bu yapı cok onemlıdır.bu yapı degerlerı true ve false dondurur. senın ıstedıklerın true olur. bu true ıle harcama sutunundan verı alır.\n",
        "# == bu degılde >,< işaretleri de kullanabilirsin. mesela bır sayı dıısı olsun asagıda bu kodu yazıdrıp mantıgını anlatacagım.\n",
        "\n"
      ],
      "metadata": {
        "id": "FB2Ww3kzvwGD",
        "outputId": "9e199b6d-20b7-40f3-ecdd-ef47131461c9",
        "colab": {
          "base_uri": "https://localhost:8080/"
        }
      },
      "execution_count": null,
      "outputs": [
        {
          "output_type": "stream",
          "name": "stdout",
          "text": [
            "   cinsiyet  harcama\n",
            "0     erkek      684\n",
            "1     erkek      559\n",
            "2     erkek      629\n",
            "3     erkek      192\n",
            "4     erkek      835\n",
            "..      ...      ...\n",
            "95    kadın      398\n",
            "96    kadın      611\n",
            "97    kadın      565\n",
            "98    kadın      908\n",
            "99    kadın      633\n",
            "\n",
            "[100 rows x 2 columns]\n",
            "0     684\n",
            "1     559\n",
            "2     629\n",
            "3     192\n",
            "4     835\n",
            "5     763\n",
            "6     707\n",
            "7     359\n",
            "8       9\n",
            "9     723\n",
            "10    277\n",
            "11    754\n",
            "12    804\n",
            "13    599\n",
            "14     70\n",
            "15    472\n",
            "16    600\n",
            "17    396\n",
            "18    314\n",
            "19    705\n",
            "20    486\n",
            "21    551\n",
            "22     87\n",
            "23    174\n",
            "24    600\n",
            "25    849\n",
            "26    677\n",
            "27    537\n",
            "28    845\n",
            "29     72\n",
            "30    777\n",
            "31    916\n",
            "32    115\n",
            "33    976\n",
            "34    755\n",
            "35    709\n",
            "36    847\n",
            "37    431\n",
            "38    448\n",
            "39    850\n",
            "40     99\n",
            "41    984\n",
            "42    177\n",
            "43    755\n",
            "44    797\n",
            "45    659\n",
            "46    147\n",
            "47    910\n",
            "48    423\n",
            "49    288\n",
            "Name: harcama, dtype: int64\n",
            "   cinsiyet  harcama\n",
            "0     erkek      684\n",
            "1     erkek      559\n",
            "2     erkek      629\n",
            "3     erkek      192\n",
            "4     erkek      835\n",
            "..      ...      ...\n",
            "95    kadın      398\n",
            "96    kadın      611\n",
            "97    kadın      565\n",
            "98    kadın      908\n",
            "99    kadın      633\n",
            "\n",
            "[100 rows x 2 columns]\n"
          ]
        }
      ]
    },
    {
      "cell_type": "code",
      "source": [
        "from scipy import stats\n",
        "import numpy as np\n",
        "import pandas as pd\n",
        "np.random.seed(0)\n",
        "veri = np.random.randint(100, size=50)\n",
        "x = pd.DataFrame(veri[veri>50], columns=[\"x\"]) # verıde kı degerler eger 50 den buyukse true dondur ve bu true degerlerın columnu  olsun demıs oldum. yapı bu yapı onemlı ve guzel bır yapı.\n",
        "print(x) "
      ],
      "metadata": {
        "id": "V2LjTPGHCmuA",
        "outputId": "80e3bd1e-b2e5-4dd3-9bc7-c1afdaccd265",
        "colab": {
          "base_uri": "https://localhost:8080/"
        }
      },
      "execution_count": 5,
      "outputs": [
        {
          "output_type": "stream",
          "name": "stdout",
          "text": [
            "     x\n",
            "0   64\n",
            "1   67\n",
            "2   67\n",
            "3   83\n",
            "4   87\n",
            "5   70\n",
            "6   88\n",
            "7   88\n",
            "8   58\n",
            "9   65\n",
            "10  87\n",
            "11  88\n",
            "12  81\n",
            "13  77\n",
            "14  72\n",
            "15  80\n",
            "16  69\n",
            "17  79\n",
            "18  64\n",
            "19  82\n",
            "20  99\n",
            "21  88\n",
            "22  65\n",
            "23  57\n",
            "24  74\n"
          ]
        }
      ]
    }
  ],
  "metadata": {
    "colab": {
      "name": "Colaboratory'ye Hoş Geldiniz",
      "provenance": [],
      "include_colab_link": true
    },
    "kernelspec": {
      "display_name": "Python 3",
      "name": "python3"
    }
  },
  "nbformat": 4,
  "nbformat_minor": 0
}