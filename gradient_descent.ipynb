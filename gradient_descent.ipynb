{
  "cells": [
    {
      "cell_type": "markdown",
      "metadata": {
        "id": "view-in-github",
        "colab_type": "text"
      },
      "source": [
        "<a href=\"https://colab.research.google.com/github/kahramankaya/VeriBilimiKucukProje/blob/main/gradient_descent.ipynb\" target=\"_parent\"><img src=\"https://colab.research.google.com/assets/colab-badge.svg\" alt=\"Open In Colab\"/></a>"
      ]
    },
    {
      "cell_type": "code",
      "source": [
        "import numpy as np"
      ],
      "metadata": {
        "id": "KTQl_44cnFhu"
      },
      "execution_count": 213,
      "outputs": []
    },
    {
      "cell_type": "code",
      "execution_count": 214,
      "metadata": {
        "id": "ePUNGv2Irm9A"
      },
      "outputs": [],
      "source": [
        "x_train = np.array([1.0, 2.0, 3.0, 4.0, 5.0])\n",
        "targets = np.array([30.0, 60.0, 90.0, 120.0, 150.0])\n",
        "w=1\n",
        "b=1"
      ]
    },
    {
      "cell_type": "code",
      "source": [
        "def mse(w,b,targets):\n",
        "  total_cost=0\n",
        "  for i in range(len(x_train)):\n",
        "    total_cost+=(targets[i]-(w*x_train[i]+b))**2\n",
        "  return total_cost/(2*(len(x_train)))"
      ],
      "metadata": {
        "id": "xOOdybgnjVb7"
      },
      "execution_count": 215,
      "outputs": []
    },
    {
      "cell_type": "code",
      "execution_count": 216,
      "metadata": {
        "id": "0JzoZKUDrnCe",
        "colab": {
          "base_uri": "https://localhost:8080/"
        },
        "outputId": "df360e05-43f2-45bf-cd4f-cafd1db803e2"
      },
      "outputs": [
        {
          "output_type": "execute_result",
          "data": {
            "text/plain": [
              "4539.0"
            ]
          },
          "metadata": {},
          "execution_count": 216
        }
      ],
      "source": [
        "mse(w=1,b=1,targets=targets)"
      ]
    },
    {
      "cell_type": "code",
      "execution_count": 217,
      "metadata": {
        "id": "Y6cOY_FornIN"
      },
      "outputs": [],
      "source": [
        "total_egim_w=0\n",
        "total_egim_b=0\n",
        "def gradient(w,b,targets):\n",
        "  global total_egim_w, total_egim_b\n",
        "  for k in range(len(x_train)):\n",
        "    total_egim_w=total_egim_w - (targets[k]-(w*(x_train[k])+b))*(x_train[k])\n",
        "    total_egim_b=total_egim_b -(targets[k]-(w*(x_train[k])+b))\n",
        "  return total_egim_w /(len(x_train)) , total_egim_b/(len(x_train))\n"
      ]
    },
    {
      "cell_type": "code",
      "execution_count": 218,
      "metadata": {
        "id": "VPNvAwlqrnKx"
      },
      "outputs": [],
      "source": [
        "def steps(step):\n",
        "  global w, b\n",
        "  for n in range(step):\n",
        "    cost=mse(w,b,targets)\n",
        "    print(f\"{w} ve {b} degerlerı ıcın cost= {cost}\")\n",
        "    egim_w , egim_b= gradient(w,b,targets)\n",
        "    w-=egim_w*0.01\n",
        "    b-=egim_b*0.01"
      ]
    },
    {
      "cell_type": "code",
      "execution_count": 219,
      "metadata": {
        "id": "874xWjvurnO3",
        "colab": {
          "base_uri": "https://localhost:8080/"
        },
        "outputId": "72aa05a1-998c-427e-ca9c-4b843b76cc1c"
      },
      "outputs": [
        {
          "output_type": "stream",
          "name": "stdout",
          "text": [
            "1 ve 1 degerlerı ıcın cost= 4539.0\n",
            "4.16 ve 1.8599999999999999 degerlerı ıcın cost= 3529.9233999999997\n",
            "10.1066 ve 3.4766000000000004 degerlerı ıcın cost= 1975.1696900399998\n",
            "18.137175999999997 ve 5.655236 degerlerı ıcın cost= 588.7259019708243\n",
            "27.30300556 ve 8.13320436 degerlerı ıcın cost= 7.274670317500264\n"
          ]
        }
      ],
      "source": [
        "steps(5)"
      ]
    }
  ],
  "metadata": {
    "colab": {
      "provenance": [],
      "mount_file_id": "1ptnS_-i_XK0ppxA-ofnC-p0YYGYV85ka",
      "authorship_tag": "ABX9TyPqlZ8nxI8IhPoXxgPU+scK",
      "include_colab_link": true
    },
    "kernelspec": {
      "display_name": "Python 3",
      "name": "python3"
    },
    "language_info": {
      "name": "python"
    }
  },
  "nbformat": 4,
  "nbformat_minor": 0
}