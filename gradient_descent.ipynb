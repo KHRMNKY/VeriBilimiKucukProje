{
  "cells": [
    {
      "cell_type": "markdown",
      "metadata": {
        "id": "view-in-github",
        "colab_type": "text"
      },
      "source": [
        "<a href=\"https://colab.research.google.com/github/kahramankaya/VeriBilimiKucukProje/blob/main/gradient_descent.ipynb\" target=\"_parent\"><img src=\"https://colab.research.google.com/assets/colab-badge.svg\" alt=\"Open In Colab\"/></a>"
      ]
    },
    {
      "cell_type": "code",
      "source": [
        "import numpy as np"
      ],
      "metadata": {
        "id": "KTQl_44cnFhu"
      },
      "execution_count": 65,
      "outputs": []
    },
    {
      "cell_type": "code",
      "execution_count": 66,
      "metadata": {
        "id": "ePUNGv2Irm9A"
      },
      "outputs": [],
      "source": [
        "x_train = np.array([1.0, 2.0, 4.8, 8.0])   #features\n",
        "targets = np.array([300.0, 500.0, 600.0, 900.0])   #target value\n",
        "w=0\n",
        "b=0"
      ]
    },
    {
      "cell_type": "code",
      "source": [
        "def mse(w,b,targets):\n",
        "  total_cost=0\n",
        "  for i in range(len(x_train)):\n",
        "    total_cost+=(targets[i]-(w*((x_train[i])**2)+b))**2\n",
        "  return total_cost/(2*(len(x_train)))"
      ],
      "metadata": {
        "id": "xOOdybgnjVb7"
      },
      "execution_count": 67,
      "outputs": []
    },
    {
      "cell_type": "code",
      "execution_count": 68,
      "metadata": {
        "id": "0JzoZKUDrnCe",
        "colab": {
          "base_uri": "https://localhost:8080/"
        },
        "outputId": "afdfe1ac-4f93-4555-9d8e-2cf828b3d614"
      },
      "outputs": [
        {
          "output_type": "execute_result",
          "data": {
            "text/plain": [
              "170347.9902"
            ]
          },
          "metadata": {},
          "execution_count": 68
        }
      ],
      "source": [
        "mse(w=1,b=1,targets=targets)"
      ]
    },
    {
      "cell_type": "code",
      "execution_count": 69,
      "metadata": {
        "id": "Y6cOY_FornIN"
      },
      "outputs": [],
      "source": [
        "total_egim_w=0\n",
        "total_egim_b=0\n",
        "def gradient(w,b,targets):\n",
        "  global total_egim_w, total_egim_b\n",
        "  for k in range(len(x_train)):\n",
        "    total_egim_w=total_egim_w+ (targets[k]-(w*((x_train[k])**2)+b))*(x_train[k])\n",
        "    total_egim_b=total_egim_b + (targets[k]-(w*((x_train[k])**2)+b))\n",
        "  return total_egim_w /(len(x_train)) , total_egim_b/(len(x_train))\n"
      ]
    },
    {
      "cell_type": "code",
      "execution_count": 70,
      "metadata": {
        "id": "VPNvAwlqrnKx"
      },
      "outputs": [],
      "source": [
        "def steps(step):\n",
        "  global w, b\n",
        "  for n in range(step):\n",
        "    cost=mse(w,b,targets)\n",
        "    print(f\"{w} ve {b} degerlerı ıcın cost= {cost}\")\n",
        "    egim_w , egim_b= gradient(w,b,targets)\n",
        "    w-=egim_w*0.01\n",
        "    b-=egim_b*0.01"
      ]
    },
    {
      "cell_type": "code",
      "execution_count": 71,
      "metadata": {
        "id": "874xWjvurnO3",
        "colab": {
          "base_uri": "https://localhost:8080/"
        },
        "outputId": "7be6272c-d8d8-4a00-a5a4-15e60d8ab826"
      },
      "outputs": [
        {
          "output_type": "stream",
          "name": "stdout",
          "text": [
            "0 ve 0 degerlerı ıcın cost= 188750.0\n",
            "-28.45 ve -5.75 degerlerı ıcın cost= 1190041.0047055\n",
            "-130.49910599999998 ve -23.853845 degerlerı ıcın cost= 12565194.921607802\n",
            "-467.99591726937996 ve -77.9740727406 degerlerı ıcın cost= 136838805.4001237\n",
            "-1575.978897862019 ve -246.3099017722903 degerlerı ıcın cost= 1480083762.5782025\n",
            "-5210.580279720834 ve -785.491574219754 degerlerı ıcın cost= 15951284653.155365\n",
            "-17132.060628834934 ve -2537.2326847731792 degerlerı ıcın cost= 171696119788.0005\n",
            "-56233.39276071536 ve -8262.183272869253 degerlerı ıcın cost= 1847357472222.823\n",
            "-184480.93363318848 ve -27014.809367934628 degerlerı ıcın cost= 19874063501135.91\n",
            "-605115.714063827 ve -88492.39638567602 degerlerı ıcın cost= 213798810446762.75\n"
          ]
        }
      ],
      "source": [
        "steps(10)"
      ]
    }
  ],
  "metadata": {
    "colab": {
      "provenance": [],
      "mount_file_id": "1ptnS_-i_XK0ppxA-ofnC-p0YYGYV85ka",
      "authorship_tag": "ABX9TyMAHwzd1T04jnLs+9ToS3Ov",
      "include_colab_link": true
    },
    "kernelspec": {
      "display_name": "Python 3",
      "name": "python3"
    },
    "language_info": {
      "name": "python"
    }
  },
  "nbformat": 4,
  "nbformat_minor": 0
}